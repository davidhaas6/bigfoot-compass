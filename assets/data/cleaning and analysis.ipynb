{
 "cells": [
  {
   "cell_type": "code",
   "execution_count": 1,
   "id": "392417fe",
   "metadata": {},
   "outputs": [
    {
     "name": "stdout",
     "output_type": "stream",
     "text": [
      "Requirement already satisfied: numpy in c:\\users\\david\\appdata\\local\\programs\\python\\python38\\lib\\site-packages (1.20.3)"
     ]
    },
    {
     "name": "stderr",
     "output_type": "stream",
     "text": [
      "WARNING: You are using pip version 19.2.3, however version 21.1.2 is available.\n",
      "You should consider upgrading via the 'python -m pip install --upgrade pip' command.\n"
     ]
    },
    {
     "name": "stdout",
     "output_type": "stream",
     "text": [
      "\n"
     ]
    }
   ],
   "source": [
    "!pip install numpy"
   ]
  },
  {
   "cell_type": "code",
   "execution_count": 2,
   "id": "60635eef",
   "metadata": {},
   "outputs": [],
   "source": [
    "import pandas as pd\n",
    "import numpy as np\n",
    "\n",
    "missingness = lambda dataframe: dataframe.isna().sum() / dataframe.shape[0] * 100"
   ]
  },
  {
   "cell_type": "code",
   "execution_count": 3,
   "id": "179b73d5",
   "metadata": {
    "scrolled": true
   },
   "outputs": [
    {
     "data": {
      "text/html": [
       "<div>\n",
       "<style scoped>\n",
       "    .dataframe tbody tr th:only-of-type {\n",
       "        vertical-align: middle;\n",
       "    }\n",
       "\n",
       "    .dataframe tbody tr th {\n",
       "        vertical-align: top;\n",
       "    }\n",
       "\n",
       "    .dataframe thead th {\n",
       "        text-align: right;\n",
       "    }\n",
       "</style>\n",
       "<table border=\"1\" class=\"dataframe\">\n",
       "  <thead>\n",
       "    <tr style=\"text-align: right;\">\n",
       "      <th></th>\n",
       "      <th>observed</th>\n",
       "      <th>location_details</th>\n",
       "      <th>county</th>\n",
       "      <th>state</th>\n",
       "      <th>season</th>\n",
       "      <th>title</th>\n",
       "      <th>latitude</th>\n",
       "      <th>longitude</th>\n",
       "      <th>date</th>\n",
       "      <th>number</th>\n",
       "      <th>...</th>\n",
       "      <th>moon_phase</th>\n",
       "      <th>precip_intensity</th>\n",
       "      <th>precip_probability</th>\n",
       "      <th>precip_type</th>\n",
       "      <th>pressure</th>\n",
       "      <th>summary</th>\n",
       "      <th>uv_index</th>\n",
       "      <th>visibility</th>\n",
       "      <th>wind_bearing</th>\n",
       "      <th>wind_speed</th>\n",
       "    </tr>\n",
       "  </thead>\n",
       "  <tbody>\n",
       "    <tr>\n",
       "      <th>0</th>\n",
       "      <td>Ed L. was salmon fishing with a companion in P...</td>\n",
       "      <td>East side of Prince William Sound</td>\n",
       "      <td>Valdez-Chitina-Whittier County</td>\n",
       "      <td>Alaska</td>\n",
       "      <td>Fall</td>\n",
       "      <td>NaN</td>\n",
       "      <td>NaN</td>\n",
       "      <td>NaN</td>\n",
       "      <td>NaN</td>\n",
       "      <td>1261.0</td>\n",
       "      <td>...</td>\n",
       "      <td>NaN</td>\n",
       "      <td>NaN</td>\n",
       "      <td>NaN</td>\n",
       "      <td>NaN</td>\n",
       "      <td>NaN</td>\n",
       "      <td>NaN</td>\n",
       "      <td>NaN</td>\n",
       "      <td>NaN</td>\n",
       "      <td>NaN</td>\n",
       "      <td>NaN</td>\n",
       "    </tr>\n",
       "    <tr>\n",
       "      <th>1</th>\n",
       "      <td>heh i kinda feel a little dumb that im reporti...</td>\n",
       "      <td>the road is off us rt 80, i dont know the exit...</td>\n",
       "      <td>Warren County</td>\n",
       "      <td>New Jersey</td>\n",
       "      <td>Fall</td>\n",
       "      <td>NaN</td>\n",
       "      <td>NaN</td>\n",
       "      <td>NaN</td>\n",
       "      <td>NaN</td>\n",
       "      <td>438.0</td>\n",
       "      <td>...</td>\n",
       "      <td>NaN</td>\n",
       "      <td>NaN</td>\n",
       "      <td>NaN</td>\n",
       "      <td>NaN</td>\n",
       "      <td>NaN</td>\n",
       "      <td>NaN</td>\n",
       "      <td>NaN</td>\n",
       "      <td>NaN</td>\n",
       "      <td>NaN</td>\n",
       "      <td>NaN</td>\n",
       "    </tr>\n",
       "    <tr>\n",
       "      <th>2</th>\n",
       "      <td>I was on my way to Claremont from Lebanon on R...</td>\n",
       "      <td>Close to Claremont down 120 not far from Kings...</td>\n",
       "      <td>Sullivan County</td>\n",
       "      <td>New Hampshire</td>\n",
       "      <td>Summer</td>\n",
       "      <td>Report 55269: Dawn sighting at Stevens Brook o...</td>\n",
       "      <td>43.41549</td>\n",
       "      <td>-72.33093</td>\n",
       "      <td>2016-06-07</td>\n",
       "      <td>55269.0</td>\n",
       "      <td>...</td>\n",
       "      <td>0.10</td>\n",
       "      <td>0.001</td>\n",
       "      <td>0.7</td>\n",
       "      <td>rain</td>\n",
       "      <td>998.87</td>\n",
       "      <td>Mostly cloudy throughout the day.</td>\n",
       "      <td>6.0</td>\n",
       "      <td>9.70</td>\n",
       "      <td>262.0</td>\n",
       "      <td>0.49</td>\n",
       "    </tr>\n",
       "    <tr>\n",
       "      <th>3</th>\n",
       "      <td>I was northeast of Macy Nebraska along the Mis...</td>\n",
       "      <td>Latitude &amp; Longitude :  42.158230  -96.344197</td>\n",
       "      <td>Thurston County</td>\n",
       "      <td>Nebraska</td>\n",
       "      <td>Spring</td>\n",
       "      <td>Report 59757: Possible daylight sighting of a ...</td>\n",
       "      <td>42.15685</td>\n",
       "      <td>-96.34203</td>\n",
       "      <td>2018-05-25</td>\n",
       "      <td>59757.0</td>\n",
       "      <td>...</td>\n",
       "      <td>0.38</td>\n",
       "      <td>0.000</td>\n",
       "      <td>0.0</td>\n",
       "      <td>NaN</td>\n",
       "      <td>1008.07</td>\n",
       "      <td>Partly cloudy in the morning.</td>\n",
       "      <td>10.0</td>\n",
       "      <td>8.25</td>\n",
       "      <td>193.0</td>\n",
       "      <td>3.33</td>\n",
       "    </tr>\n",
       "    <tr>\n",
       "      <th>4</th>\n",
       "      <td>While this incident occurred a long time ago, ...</td>\n",
       "      <td>Ward County, Just outside of a the Minuteman T...</td>\n",
       "      <td>Ward County</td>\n",
       "      <td>North Dakota</td>\n",
       "      <td>Spring</td>\n",
       "      <td>Report 751: Hunter describes described being s...</td>\n",
       "      <td>48.25422</td>\n",
       "      <td>-101.31660</td>\n",
       "      <td>2000-04-21</td>\n",
       "      <td>751.0</td>\n",
       "      <td>...</td>\n",
       "      <td>0.60</td>\n",
       "      <td>NaN</td>\n",
       "      <td>NaN</td>\n",
       "      <td>rain</td>\n",
       "      <td>1011.47</td>\n",
       "      <td>Partly cloudy until evening.</td>\n",
       "      <td>6.0</td>\n",
       "      <td>10.00</td>\n",
       "      <td>237.0</td>\n",
       "      <td>11.14</td>\n",
       "    </tr>\n",
       "  </tbody>\n",
       "</table>\n",
       "<p>5 rows × 28 columns</p>\n",
       "</div>"
      ],
      "text/plain": [
       "                                            observed  \\\n",
       "0  Ed L. was salmon fishing with a companion in P...   \n",
       "1  heh i kinda feel a little dumb that im reporti...   \n",
       "2  I was on my way to Claremont from Lebanon on R...   \n",
       "3  I was northeast of Macy Nebraska along the Mis...   \n",
       "4  While this incident occurred a long time ago, ...   \n",
       "\n",
       "                                    location_details  \\\n",
       "0                  East side of Prince William Sound   \n",
       "1  the road is off us rt 80, i dont know the exit...   \n",
       "2  Close to Claremont down 120 not far from Kings...   \n",
       "3      Latitude & Longitude :  42.158230  -96.344197   \n",
       "4  Ward County, Just outside of a the Minuteman T...   \n",
       "\n",
       "                           county          state  season  \\\n",
       "0  Valdez-Chitina-Whittier County         Alaska    Fall   \n",
       "1                   Warren County     New Jersey    Fall   \n",
       "2                 Sullivan County  New Hampshire  Summer   \n",
       "3                 Thurston County       Nebraska  Spring   \n",
       "4                     Ward County   North Dakota  Spring   \n",
       "\n",
       "                                               title  latitude  longitude  \\\n",
       "0                                                NaN       NaN        NaN   \n",
       "1                                                NaN       NaN        NaN   \n",
       "2  Report 55269: Dawn sighting at Stevens Brook o...  43.41549  -72.33093   \n",
       "3  Report 59757: Possible daylight sighting of a ...  42.15685  -96.34203   \n",
       "4  Report 751: Hunter describes described being s...  48.25422 -101.31660   \n",
       "\n",
       "         date   number  ... moon_phase precip_intensity  precip_probability  \\\n",
       "0         NaN   1261.0  ...        NaN              NaN                 NaN   \n",
       "1         NaN    438.0  ...        NaN              NaN                 NaN   \n",
       "2  2016-06-07  55269.0  ...       0.10            0.001                 0.7   \n",
       "3  2018-05-25  59757.0  ...       0.38            0.000                 0.0   \n",
       "4  2000-04-21    751.0  ...       0.60              NaN                 NaN   \n",
       "\n",
       "   precip_type  pressure                            summary  uv_index  \\\n",
       "0          NaN       NaN                                NaN       NaN   \n",
       "1          NaN       NaN                                NaN       NaN   \n",
       "2         rain    998.87  Mostly cloudy throughout the day.       6.0   \n",
       "3          NaN   1008.07      Partly cloudy in the morning.      10.0   \n",
       "4         rain   1011.47       Partly cloudy until evening.       6.0   \n",
       "\n",
       "   visibility  wind_bearing  wind_speed  \n",
       "0         NaN           NaN         NaN  \n",
       "1         NaN           NaN         NaN  \n",
       "2        9.70         262.0        0.49  \n",
       "3        8.25         193.0        3.33  \n",
       "4       10.00         237.0       11.14  \n",
       "\n",
       "[5 rows x 28 columns]"
      ]
     },
     "execution_count": 3,
     "metadata": {},
     "output_type": "execute_result"
    }
   ],
   "source": [
    "df = pd.read_csv('bfro_reports_geocoded.csv')\n",
    "\n",
    "df.head()"
   ]
  },
  {
   "cell_type": "code",
   "execution_count": 4,
   "id": "392ad632",
   "metadata": {},
   "outputs": [
    {
     "name": "stdout",
     "output_type": "stream",
     "text": [
      "missingness\n"
     ]
    },
    {
     "data": {
      "text/plain": [
       "observed               0.758374\n",
       "location_details      15.546661\n",
       "county                 0.000000\n",
       "state                  0.000000\n",
       "season                 0.000000\n",
       "title                 20.012640\n",
       "latitude              20.012640\n",
       "longitude             20.012640\n",
       "date                  20.012640\n",
       "number                 0.000000\n",
       "classification         0.000000\n",
       "geohash               20.012640\n",
       "temperature_high      34.737729\n",
       "temperature_mid       37.855488\n",
       "temperature_low       37.792290\n",
       "dew_point             34.000421\n",
       "humidity              34.000421\n",
       "cloud_cover           39.898884\n",
       "moon_phase            33.515905\n",
       "precip_intensity      47.482621\n",
       "precip_probability    47.482621\n",
       "precip_type           67.137139\n",
       "pressure              49.210027\n",
       "summary               33.515905\n",
       "uv_index              33.515905\n",
       "visibility            40.657257\n",
       "wind_bearing          33.705498\n",
       "wind_speed            33.663366\n",
       "dtype: float64"
      ]
     },
     "execution_count": 4,
     "metadata": {},
     "output_type": "execute_result"
    }
   ],
   "source": [
    "print('missingness')\n",
    "missingness(df)"
   ]
  },
  {
   "cell_type": "code",
   "execution_count": 5,
   "id": "5a5ce140",
   "metadata": {},
   "outputs": [
    {
     "name": "stdout",
     "output_type": "stream",
     "text": [
      "numbers all unique\n"
     ]
    },
    {
     "data": {
      "text/plain": [
       "True"
      ]
     },
     "execution_count": 5,
     "metadata": {},
     "output_type": "execute_result"
    }
   ],
   "source": [
    "print('numbers all unique')\n",
    "len(df.number.unique()) == df.shape[0]"
   ]
  },
  {
   "cell_type": "markdown",
   "id": "3163b47b",
   "metadata": {},
   "source": [
    "# Clean bigfoot data"
   ]
  },
  {
   "cell_type": "code",
   "execution_count": 6,
   "id": "3fcc35de",
   "metadata": {},
   "outputs": [],
   "source": [
    "# clean county names to better match with county db\n",
    "df['county'] = df.county.str.replace('County','')\n",
    "df['county'] = df.county.str.strip()"
   ]
  },
  {
   "cell_type": "markdown",
   "id": "829591ab",
   "metadata": {},
   "source": [
    "# Impute"
   ]
  },
  {
   "cell_type": "code",
   "execution_count": 7,
   "id": "661de53b",
   "metadata": {},
   "outputs": [],
   "source": [
    "missing_loc = df[df.latitude.isna() | df.longitude.isna()]"
   ]
  },
  {
   "cell_type": "code",
   "execution_count": null,
   "id": "9e33a0f8",
   "metadata": {},
   "outputs": [],
   "source": []
  },
  {
   "cell_type": "markdown",
   "id": "7fe36dc3",
   "metadata": {},
   "source": [
    "# Save just ones without location"
   ]
  },
  {
   "cell_type": "code",
   "execution_count": 8,
   "id": "addb97af",
   "metadata": {
    "scrolled": true
   },
   "outputs": [],
   "source": [
    "has_loc_df = df.drop(missing_loc.index, axis=0)"
   ]
  },
  {
   "cell_type": "code",
   "execution_count": 9,
   "id": "87fca3a9",
   "metadata": {},
   "outputs": [],
   "source": [
    "has_loc_df.to_csv('sightings_with_location.csv', index=False)\n",
    "# has_loc_df.head()"
   ]
  },
  {
   "cell_type": "markdown",
   "id": "af526ae3",
   "metadata": {},
   "source": [
    "# impute county centroid for location"
   ]
  },
  {
   "cell_type": "code",
   "execution_count": 10,
   "id": "4c036500",
   "metadata": {},
   "outputs": [
    {
     "data": {
      "text/plain": [
       "Sort [1]              0\n",
       "State                 0\n",
       "FIPS                  0\n",
       "County                0\n",
       "County Seat(s) [3]    0\n",
       "Population (2010)     0\n",
       "Land Area km²         0\n",
       "Land  mi²             0\n",
       "Water Area km²        0\n",
       "Water Area mi²        0\n",
       "Total Area km²        0\n",
       "Total Area mi²        0\n",
       "Latitude              0\n",
       "Longitude             0\n",
       "dtype: int64"
      ]
     },
     "execution_count": 10,
     "metadata": {},
     "output_type": "execute_result"
    }
   ],
   "source": [
    "# https://en.wikipedia.org/wiki/User:Michael_J/County_table\n",
    "counties = pd.read_csv('counties.txt',delimiter='\\t')\n",
    "counties = counties.rename({'County [2]': 'County'},axis=1)\n",
    "counties.isna().sum()"
   ]
  },
  {
   "cell_type": "code",
   "execution_count": 11,
   "id": "af35541a",
   "metadata": {},
   "outputs": [
    {
     "data": {
      "text/html": [
       "<div>\n",
       "<style scoped>\n",
       "    .dataframe tbody tr th:only-of-type {\n",
       "        vertical-align: middle;\n",
       "    }\n",
       "\n",
       "    .dataframe tbody tr th {\n",
       "        vertical-align: top;\n",
       "    }\n",
       "\n",
       "    .dataframe thead th {\n",
       "        text-align: right;\n",
       "    }\n",
       "</style>\n",
       "<table border=\"1\" class=\"dataframe\">\n",
       "  <thead>\n",
       "    <tr style=\"text-align: right;\">\n",
       "      <th></th>\n",
       "      <th>state</th>\n",
       "      <th>abbrev</th>\n",
       "      <th>initial</th>\n",
       "    </tr>\n",
       "  </thead>\n",
       "  <tbody>\n",
       "    <tr>\n",
       "      <th>0</th>\n",
       "      <td>Alabama</td>\n",
       "      <td>Ala.</td>\n",
       "      <td>AL</td>\n",
       "    </tr>\n",
       "    <tr>\n",
       "      <th>1</th>\n",
       "      <td>Alaska</td>\n",
       "      <td>Alaska</td>\n",
       "      <td>AK</td>\n",
       "    </tr>\n",
       "    <tr>\n",
       "      <th>2</th>\n",
       "      <td>Arizona</td>\n",
       "      <td>Ariz.</td>\n",
       "      <td>AZ</td>\n",
       "    </tr>\n",
       "    <tr>\n",
       "      <th>3</th>\n",
       "      <td>Arkansas</td>\n",
       "      <td>Ark.</td>\n",
       "      <td>AR</td>\n",
       "    </tr>\n",
       "    <tr>\n",
       "      <th>4</th>\n",
       "      <td>California</td>\n",
       "      <td>Calif.</td>\n",
       "      <td>CA</td>\n",
       "    </tr>\n",
       "  </tbody>\n",
       "</table>\n",
       "</div>"
      ],
      "text/plain": [
       "        state  abbrev initial\n",
       "0     Alabama    Ala.      AL\n",
       "1      Alaska  Alaska      AK\n",
       "2     Arizona   Ariz.      AZ\n",
       "3    Arkansas    Ark.      AR\n",
       "4  California  Calif.      CA"
      ]
     },
     "execution_count": 11,
     "metadata": {},
     "output_type": "execute_result"
    }
   ],
   "source": [
    "initials = pd.read_csv('state_initials.txt', delimiter='\\t', names=['state', 'abbrev', 'initial'])\n",
    "initials.head()"
   ]
  },
  {
   "cell_type": "code",
   "execution_count": 12,
   "id": "aeb96337",
   "metadata": {},
   "outputs": [
    {
     "data": {
      "text/plain": [
       "FIPS                  0.0\n",
       "County                0.0\n",
       "County Seat(s) [3]    0.0\n",
       "Population (2010)     0.0\n",
       "Land Area km²         0.0\n",
       "Land  mi²             0.0\n",
       "Water Area km²        0.0\n",
       "Water Area mi²        0.0\n",
       "Total Area km²        0.0\n",
       "Total Area mi²        0.0\n",
       "Latitude              0.0\n",
       "Longitude             0.0\n",
       "state                 0.0\n",
       "initial               0.0\n",
       "dtype: float64"
      ]
     },
     "execution_count": 12,
     "metadata": {},
     "output_type": "execute_result"
    }
   ],
   "source": [
    "# get the state's full name to match on with bigfoot df\n",
    "counties = counties.merge(initials, left_on='State', right_on='initial')\n",
    "\n",
    "counties = counties.drop(['Sort [1]', 'State', 'abbrev'],axis=1)\n",
    "missingness(counties)"
   ]
  },
  {
   "cell_type": "markdown",
   "id": "c46cb486",
   "metadata": {},
   "source": [
    "## Match the sightings with missing coordinates based on state & county\n",
    "Using the county centroid coordinates"
   ]
  },
  {
   "cell_type": "code",
   "execution_count": 14,
   "id": "a7cc273e",
   "metadata": {
    "scrolled": true
   },
   "outputs": [
    {
     "name": "stderr",
     "output_type": "stream",
     "text": [
      "<ipython-input-14-955cfd435fc1>:2: SettingWithCopyWarning: \n",
      "A value is trying to be set on a copy of a slice from a DataFrame.\n",
      "Try using .loc[row_indexer,col_indexer] = value instead\n",
      "\n",
      "See the caveats in the documentation: https://pandas.pydata.org/pandas-docs/stable/user_guide/indexing.html#returning-a-view-versus-a-copy\n",
      "  missing_loc['sighting_idx'] = missing_loc.index\n"
     ]
    },
    {
     "data": {
      "text/html": [
       "<div>\n",
       "<style scoped>\n",
       "    .dataframe tbody tr th:only-of-type {\n",
       "        vertical-align: middle;\n",
       "    }\n",
       "\n",
       "    .dataframe tbody tr th {\n",
       "        vertical-align: top;\n",
       "    }\n",
       "\n",
       "    .dataframe thead th {\n",
       "        text-align: right;\n",
       "    }\n",
       "</style>\n",
       "<table border=\"1\" class=\"dataframe\">\n",
       "  <thead>\n",
       "    <tr style=\"text-align: right;\">\n",
       "      <th></th>\n",
       "      <th>observed</th>\n",
       "      <th>location_details</th>\n",
       "      <th>county</th>\n",
       "      <th>state</th>\n",
       "      <th>season</th>\n",
       "      <th>title</th>\n",
       "      <th>latitude</th>\n",
       "      <th>longitude</th>\n",
       "      <th>date</th>\n",
       "      <th>number</th>\n",
       "      <th>...</th>\n",
       "      <th>precip_type</th>\n",
       "      <th>pressure</th>\n",
       "      <th>summary</th>\n",
       "      <th>uv_index</th>\n",
       "      <th>visibility</th>\n",
       "      <th>wind_bearing</th>\n",
       "      <th>wind_speed</th>\n",
       "      <th>County</th>\n",
       "      <th>Latitude</th>\n",
       "      <th>Longitude</th>\n",
       "    </tr>\n",
       "    <tr>\n",
       "      <th>sighting_idx</th>\n",
       "      <th></th>\n",
       "      <th></th>\n",
       "      <th></th>\n",
       "      <th></th>\n",
       "      <th></th>\n",
       "      <th></th>\n",
       "      <th></th>\n",
       "      <th></th>\n",
       "      <th></th>\n",
       "      <th></th>\n",
       "      <th></th>\n",
       "      <th></th>\n",
       "      <th></th>\n",
       "      <th></th>\n",
       "      <th></th>\n",
       "      <th></th>\n",
       "      <th></th>\n",
       "      <th></th>\n",
       "      <th></th>\n",
       "      <th></th>\n",
       "      <th></th>\n",
       "    </tr>\n",
       "  </thead>\n",
       "  <tbody>\n",
       "    <tr>\n",
       "      <th>4741</th>\n",
       "      <td>It was last summer July 1998. I was sleeping w...</td>\n",
       "      <td>Jeffersonville In. 47130 U.S.A. Clark County H...</td>\n",
       "      <td>Clark</td>\n",
       "      <td>Indiana</td>\n",
       "      <td>Summer</td>\n",
       "      <td>NaN</td>\n",
       "      <td>NaN</td>\n",
       "      <td>NaN</td>\n",
       "      <td>NaN</td>\n",
       "      <td>2475.0</td>\n",
       "      <td>...</td>\n",
       "      <td>NaN</td>\n",
       "      <td>NaN</td>\n",
       "      <td>NaN</td>\n",
       "      <td>NaN</td>\n",
       "      <td>NaN</td>\n",
       "      <td>NaN</td>\n",
       "      <td>NaN</td>\n",
       "      <td>Clark</td>\n",
       "      <td>+38.476217°</td>\n",
       "      <td>–85.711122°</td>\n",
       "    </tr>\n",
       "    <tr>\n",
       "      <th>4742</th>\n",
       "      <td>My cousin and I were camping way out in the wo...</td>\n",
       "      <td>Indiana, Brown County, Elkinsville, Lake Monro...</td>\n",
       "      <td>Brown</td>\n",
       "      <td>Indiana</td>\n",
       "      <td>Spring</td>\n",
       "      <td>NaN</td>\n",
       "      <td>NaN</td>\n",
       "      <td>NaN</td>\n",
       "      <td>NaN</td>\n",
       "      <td>2460.0</td>\n",
       "      <td>...</td>\n",
       "      <td>NaN</td>\n",
       "      <td>NaN</td>\n",
       "      <td>NaN</td>\n",
       "      <td>NaN</td>\n",
       "      <td>NaN</td>\n",
       "      <td>NaN</td>\n",
       "      <td>NaN</td>\n",
       "      <td>Brown</td>\n",
       "      <td>+39.192585°</td>\n",
       "      <td>–86.239410°</td>\n",
       "    </tr>\n",
       "    <tr>\n",
       "      <th>4743</th>\n",
       "      <td>While backpacking near the horse trails and ac...</td>\n",
       "      <td>Near Bedford south of Brown County in the Hoos...</td>\n",
       "      <td>Brown</td>\n",
       "      <td>Indiana</td>\n",
       "      <td>Winter</td>\n",
       "      <td>NaN</td>\n",
       "      <td>NaN</td>\n",
       "      <td>NaN</td>\n",
       "      <td>NaN</td>\n",
       "      <td>2461.0</td>\n",
       "      <td>...</td>\n",
       "      <td>NaN</td>\n",
       "      <td>NaN</td>\n",
       "      <td>NaN</td>\n",
       "      <td>NaN</td>\n",
       "      <td>NaN</td>\n",
       "      <td>NaN</td>\n",
       "      <td>NaN</td>\n",
       "      <td>Brown</td>\n",
       "      <td>+39.192585°</td>\n",
       "      <td>–86.239410°</td>\n",
       "    </tr>\n",
       "    <tr>\n",
       "      <th>4745</th>\n",
       "      <td>My wife and I were driving to Indianapolis to ...</td>\n",
       "      <td>On Interstate 65 in Indiana somewhere around t...</td>\n",
       "      <td>Boone</td>\n",
       "      <td>Indiana</td>\n",
       "      <td>Winter</td>\n",
       "      <td>NaN</td>\n",
       "      <td>NaN</td>\n",
       "      <td>NaN</td>\n",
       "      <td>NaN</td>\n",
       "      <td>2459.0</td>\n",
       "      <td>...</td>\n",
       "      <td>NaN</td>\n",
       "      <td>NaN</td>\n",
       "      <td>NaN</td>\n",
       "      <td>NaN</td>\n",
       "      <td>NaN</td>\n",
       "      <td>NaN</td>\n",
       "      <td>NaN</td>\n",
       "      <td>Boone</td>\n",
       "      <td>+40.050892°</td>\n",
       "      <td>–86.469014°</td>\n",
       "    </tr>\n",
       "    <tr>\n",
       "      <th>4746</th>\n",
       "      <td>It was about 7:00 PM in September. It was stil...</td>\n",
       "      <td>Blackford County, Indiana located in the south...</td>\n",
       "      <td>Blackford</td>\n",
       "      <td>Indiana</td>\n",
       "      <td>Summer</td>\n",
       "      <td>NaN</td>\n",
       "      <td>NaN</td>\n",
       "      <td>NaN</td>\n",
       "      <td>NaN</td>\n",
       "      <td>2458.0</td>\n",
       "      <td>...</td>\n",
       "      <td>NaN</td>\n",
       "      <td>NaN</td>\n",
       "      <td>NaN</td>\n",
       "      <td>NaN</td>\n",
       "      <td>NaN</td>\n",
       "      <td>NaN</td>\n",
       "      <td>NaN</td>\n",
       "      <td>Blackford</td>\n",
       "      <td>+40.472672°</td>\n",
       "      <td>–85.323730°</td>\n",
       "    </tr>\n",
       "  </tbody>\n",
       "</table>\n",
       "<p>5 rows × 31 columns</p>\n",
       "</div>"
      ],
      "text/plain": [
       "                                                       observed  \\\n",
       "sighting_idx                                                      \n",
       "4741          It was last summer July 1998. I was sleeping w...   \n",
       "4742          My cousin and I were camping way out in the wo...   \n",
       "4743          While backpacking near the horse trails and ac...   \n",
       "4745          My wife and I were driving to Indianapolis to ...   \n",
       "4746          It was about 7:00 PM in September. It was stil...   \n",
       "\n",
       "                                               location_details     county  \\\n",
       "sighting_idx                                                                 \n",
       "4741          Jeffersonville In. 47130 U.S.A. Clark County H...      Clark   \n",
       "4742          Indiana, Brown County, Elkinsville, Lake Monro...      Brown   \n",
       "4743          Near Bedford south of Brown County in the Hoos...      Brown   \n",
       "4745          On Interstate 65 in Indiana somewhere around t...      Boone   \n",
       "4746          Blackford County, Indiana located in the south...  Blackford   \n",
       "\n",
       "                state  season title  latitude  longitude date  number  ...  \\\n",
       "sighting_idx                                                           ...   \n",
       "4741          Indiana  Summer   NaN       NaN        NaN  NaN  2475.0  ...   \n",
       "4742          Indiana  Spring   NaN       NaN        NaN  NaN  2460.0  ...   \n",
       "4743          Indiana  Winter   NaN       NaN        NaN  NaN  2461.0  ...   \n",
       "4745          Indiana  Winter   NaN       NaN        NaN  NaN  2459.0  ...   \n",
       "4746          Indiana  Summer   NaN       NaN        NaN  NaN  2458.0  ...   \n",
       "\n",
       "             precip_type pressure  summary  uv_index  visibility  \\\n",
       "sighting_idx                                                       \n",
       "4741                 NaN      NaN      NaN       NaN         NaN   \n",
       "4742                 NaN      NaN      NaN       NaN         NaN   \n",
       "4743                 NaN      NaN      NaN       NaN         NaN   \n",
       "4745                 NaN      NaN      NaN       NaN         NaN   \n",
       "4746                 NaN      NaN      NaN       NaN         NaN   \n",
       "\n",
       "              wind_bearing  wind_speed     County     Latitude    Longitude  \n",
       "sighting_idx                                                                 \n",
       "4741                   NaN         NaN      Clark  +38.476217°  –85.711122°  \n",
       "4742                   NaN         NaN      Brown  +39.192585°  –86.239410°  \n",
       "4743                   NaN         NaN      Brown  +39.192585°  –86.239410°  \n",
       "4745                   NaN         NaN      Boone  +40.050892°  –86.469014°  \n",
       "4746                   NaN         NaN  Blackford  +40.472672°  –85.323730°  \n",
       "\n",
       "[5 rows x 31 columns]"
      ]
     },
     "execution_count": 14,
     "metadata": {},
     "output_type": "execute_result"
    }
   ],
   "source": [
    "# Keep old indicies\n",
    "missing_loc['sighting_idx'] = missing_loc.index\n",
    "\n",
    "county_info = ['state', 'County', 'Latitude', 'Longitude']\n",
    "\n",
    "imputed_locs = pd.merge(missing_loc, counties[county_info], \n",
    "         left_on=['state', 'county'], \n",
    "         right_on=['state', 'County'], \n",
    "         how='inner', suffixes=['bf','cnt'])\n",
    "\n",
    "imputed_locs = imputed_locs.set_index('sighting_idx')\n",
    "imputed_locs.tail()"
   ]
  },
  {
   "cell_type": "code",
   "execution_count": 15,
   "id": "713759da",
   "metadata": {},
   "outputs": [],
   "source": [
    "imputed_locs['is_estimated'] = True"
   ]
  },
  {
   "cell_type": "code",
   "execution_count": 17,
   "id": "8b35b6bb",
   "metadata": {
    "scrolled": true
   },
   "outputs": [
    {
     "name": "stderr",
     "output_type": "stream",
     "text": [
      "<ipython-input-17-5e469b8bba43>:1: FutureWarning: The default value of regex will change from True to False in a future version.\n",
      "  clean = lambda series: series.str.replace('\\+','') \\\n"
     ]
    }
   ],
   "source": [
    "clean = lambda series: series.str.replace('\\+','') \\\n",
    "    .str.replace('°','') \\\n",
    "    .str.replace('–','-') \\\n",
    "    .astype('float')\n",
    "\n",
    "imputed_locs['latitude'] = clean(imputed_locs.Latitude)\n",
    "imputed_locs['longitude'] = clean(imputed_locs.Longitude)\n",
    "\n",
    "# imputed_loc = imputed_loc.drop(county_info, axis=1)"
   ]
  },
  {
   "cell_type": "code",
   "execution_count": 18,
   "id": "3d336441",
   "metadata": {},
   "outputs": [
    {
     "data": {
      "text/plain": [
       "sighting_idx\n",
       "1       40.853524\n",
       "32      40.853524\n",
       "9       45.037929\n",
       "11      43.427239\n",
       "22      43.427239\n",
       "          ...    \n",
       "4741    38.476217\n",
       "4742    39.192585\n",
       "4743    39.192585\n",
       "4745    40.050892\n",
       "4746    40.472672\n",
       "Name: latitude, Length: 921, dtype: float64"
      ]
     },
     "execution_count": 18,
     "metadata": {},
     "output_type": "execute_result"
    }
   ],
   "source": [
    "imputed_locs.latitude"
   ]
  },
  {
   "cell_type": "markdown",
   "id": "8966aa24",
   "metadata": {},
   "source": [
    "## Replace NaN coordinates with county centroids"
   ]
  },
  {
   "cell_type": "code",
   "execution_count": 35,
   "id": "18ba6652",
   "metadata": {},
   "outputs": [
    {
     "data": {
      "text/html": [
       "<div>\n",
       "<style scoped>\n",
       "    .dataframe tbody tr th:only-of-type {\n",
       "        vertical-align: middle;\n",
       "    }\n",
       "\n",
       "    .dataframe tbody tr th {\n",
       "        vertical-align: top;\n",
       "    }\n",
       "\n",
       "    .dataframe thead th {\n",
       "        text-align: right;\n",
       "    }\n",
       "</style>\n",
       "<table border=\"1\" class=\"dataframe\">\n",
       "  <thead>\n",
       "    <tr style=\"text-align: right;\">\n",
       "      <th></th>\n",
       "      <th>latitude</th>\n",
       "      <th>longitude</th>\n",
       "    </tr>\n",
       "    <tr>\n",
       "      <th>sighting_idx</th>\n",
       "      <th></th>\n",
       "      <th></th>\n",
       "    </tr>\n",
       "  </thead>\n",
       "  <tbody>\n",
       "    <tr>\n",
       "      <th>1</th>\n",
       "      <td>40.853524</td>\n",
       "      <td>-75.009542</td>\n",
       "    </tr>\n",
       "    <tr>\n",
       "      <th>32</th>\n",
       "      <td>40.853524</td>\n",
       "      <td>-75.009542</td>\n",
       "    </tr>\n",
       "    <tr>\n",
       "      <th>9</th>\n",
       "      <td>45.037929</td>\n",
       "      <td>-92.890117</td>\n",
       "    </tr>\n",
       "    <tr>\n",
       "      <th>11</th>\n",
       "      <td>43.427239</td>\n",
       "      <td>-70.670402</td>\n",
       "    </tr>\n",
       "    <tr>\n",
       "      <th>22</th>\n",
       "      <td>43.427239</td>\n",
       "      <td>-70.670402</td>\n",
       "    </tr>\n",
       "    <tr>\n",
       "      <th>...</th>\n",
       "      <td>...</td>\n",
       "      <td>...</td>\n",
       "    </tr>\n",
       "    <tr>\n",
       "      <th>4741</th>\n",
       "      <td>38.476217</td>\n",
       "      <td>-85.711122</td>\n",
       "    </tr>\n",
       "    <tr>\n",
       "      <th>4742</th>\n",
       "      <td>39.192585</td>\n",
       "      <td>-86.239410</td>\n",
       "    </tr>\n",
       "    <tr>\n",
       "      <th>4743</th>\n",
       "      <td>39.192585</td>\n",
       "      <td>-86.239410</td>\n",
       "    </tr>\n",
       "    <tr>\n",
       "      <th>4745</th>\n",
       "      <td>40.050892</td>\n",
       "      <td>-86.469014</td>\n",
       "    </tr>\n",
       "    <tr>\n",
       "      <th>4746</th>\n",
       "      <td>40.472672</td>\n",
       "      <td>-85.323730</td>\n",
       "    </tr>\n",
       "  </tbody>\n",
       "</table>\n",
       "<p>921 rows × 2 columns</p>\n",
       "</div>"
      ],
      "text/plain": [
       "               latitude  longitude\n",
       "sighting_idx                      \n",
       "1             40.853524 -75.009542\n",
       "32            40.853524 -75.009542\n",
       "9             45.037929 -92.890117\n",
       "11            43.427239 -70.670402\n",
       "22            43.427239 -70.670402\n",
       "...                 ...        ...\n",
       "4741          38.476217 -85.711122\n",
       "4742          39.192585 -86.239410\n",
       "4743          39.192585 -86.239410\n",
       "4745          40.050892 -86.469014\n",
       "4746          40.472672 -85.323730\n",
       "\n",
       "[921 rows x 2 columns]"
      ]
     },
     "execution_count": 35,
     "metadata": {},
     "output_type": "execute_result"
    }
   ],
   "source": [
    "# fill in values\n",
    "df.loc[imputed_locs.index,'latitude'] = imputed_locs.latitude\n",
    "df.loc[imputed_locs.index,'longitude'] = imputed_locs.longitude\n",
    "\n",
    "# mark the replaced ones\n",
    "df['loc_estimated'] = False\n",
    "df.loc[imputed_locs.index,'loc_estimated'] = True\n",
    "\n",
    "df.loc[imputed_locs.index,['latitude','longitude']]"
   ]
  },
  {
   "cell_type": "code",
   "execution_count": 37,
   "id": "801ed281",
   "metadata": {
    "scrolled": true
   },
   "outputs": [
    {
     "data": {
      "text/plain": [
       "latitude     0\n",
       "longitude    0\n",
       "dtype: int64"
      ]
     },
     "execution_count": 37,
     "metadata": {},
     "output_type": "execute_result"
    }
   ],
   "source": [
    "df.loc[imputed_locs.index,['latitude','longitude']].isna().sum()"
   ]
  },
  {
   "cell_type": "markdown",
   "id": "66e458b5",
   "metadata": {},
   "source": [
    "## Clean dataframe then save"
   ]
  },
  {
   "cell_type": "code",
   "execution_count": 39,
   "id": "ca188f71",
   "metadata": {},
   "outputs": [
    {
     "data": {
      "text/plain": [
       "observed               0.758374\n",
       "location_details      15.546661\n",
       "county                 0.000000\n",
       "state                  0.000000\n",
       "season                 0.000000\n",
       "title                 20.012640\n",
       "latitude               0.610912\n",
       "longitude              0.610912\n",
       "date                  20.012640\n",
       "number                 0.000000\n",
       "classification         0.000000\n",
       "geohash               20.012640\n",
       "temperature_high      34.737729\n",
       "temperature_mid       37.855488\n",
       "temperature_low       37.792290\n",
       "dew_point             34.000421\n",
       "humidity              34.000421\n",
       "cloud_cover           39.898884\n",
       "moon_phase            33.515905\n",
       "precip_intensity      47.482621\n",
       "precip_probability    47.482621\n",
       "precip_type           67.137139\n",
       "pressure              49.210027\n",
       "summary               33.515905\n",
       "uv_index              33.515905\n",
       "visibility            40.657257\n",
       "wind_bearing          33.705498\n",
       "wind_speed            33.663366\n",
       "loc_estimated          0.000000\n",
       "dtype: float64"
      ]
     },
     "execution_count": 39,
     "metadata": {},
     "output_type": "execute_result"
    }
   ],
   "source": [
    "missingness(df)"
   ]
  },
  {
   "cell_type": "code",
   "execution_count": 47,
   "id": "1f1dc4a8",
   "metadata": {},
   "outputs": [],
   "source": [
    "# drop remaining missing rows\n",
    "df = df[~(df.latitude.isna() | df.longitude.isna())]"
   ]
  },
  {
   "cell_type": "code",
   "execution_count": 48,
   "id": "ab80a591",
   "metadata": {},
   "outputs": [],
   "source": [
    "df.to_csv('sightings_with_estimates.csv', index=False)"
   ]
  },
  {
   "cell_type": "code",
   "execution_count": null,
   "id": "0cb30b0b",
   "metadata": {},
   "outputs": [],
   "source": []
  }
 ],
 "metadata": {
  "kernelspec": {
   "display_name": "Python 3",
   "language": "python",
   "name": "python3"
  },
  "language_info": {
   "codemirror_mode": {
    "name": "ipython",
    "version": 3
   },
   "file_extension": ".py",
   "mimetype": "text/x-python",
   "name": "python",
   "nbconvert_exporter": "python",
   "pygments_lexer": "ipython3",
   "version": "3.8.0"
  }
 },
 "nbformat": 4,
 "nbformat_minor": 5
}
